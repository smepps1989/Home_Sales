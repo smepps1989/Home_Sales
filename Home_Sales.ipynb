{
 "cells": [
  {
   "cell_type": "code",
   "execution_count": 1,
   "metadata": {
    "colab": {
     "base_uri": "https://localhost:8080/"
    },
    "id": "a_KW73O2e3dw",
    "outputId": "fa5fd2b3-e2de-491b-ee1c-405317ba7ebc"
   },
   "outputs": [],
   "source": [
    "# Import findspark and initialize. \n",
    "import findspark\n",
    "findspark.init()"
   ]
  },
  {
   "cell_type": "code",
   "execution_count": 2,
   "metadata": {
    "id": "2XbWNf1Te5fM"
   },
   "outputs": [
    {
     "name": "stderr",
     "output_type": "stream",
     "text": [
      "24/06/04 21:50:58 WARN Utils: Your hostname, SMB.local resolves to a loopback address: 127.0.0.1; using 10.0.0.125 instead (on interface en0)\n",
      "24/06/04 21:50:58 WARN Utils: Set SPARK_LOCAL_IP if you need to bind to another address\n",
      "Setting default log level to \"WARN\".\n",
      "To adjust logging level use sc.setLogLevel(newLevel). For SparkR, use setLogLevel(newLevel).\n",
      "24/06/04 21:50:58 WARN NativeCodeLoader: Unable to load native-hadoop library for your platform... using builtin-java classes where applicable\n"
     ]
    }
   ],
   "source": [
    "# Import packages\n",
    "from pyspark.sql import SparkSession\n",
    "import time\n",
    "\n",
    "# Create a SparkSession\n",
    "spark = SparkSession.builder.appName(\"SparkSQL\").getOrCreate()"
   ]
  },
  {
   "cell_type": "code",
   "execution_count": 3,
   "metadata": {
    "colab": {
     "base_uri": "https://localhost:8080/"
    },
    "id": "wOJqxG_RPSwp",
    "outputId": "7857ef9f-5b04-405d-f5aa-e535dfe7870c"
   },
   "outputs": [],
   "source": [
    "# 1. Read in the AWS S3 bucket into a DataFrame.\n",
    "from pyspark import SparkFiles\n",
    "url = \"https://2u-data-curriculum-team.s3.amazonaws.com/dataviz-classroom/v1.2/22-big-data/home_sales_revised.csv\"\n",
    "\n",
    "spark.sparkContext.addFile(url)\n",
    "df = spark.read.option('header', 'true').csv(SparkFiles.get(\"home_sales_revised.csv\"), inferSchema=True, sep=',')"
   ]
  },
  {
   "cell_type": "code",
   "execution_count": 4,
   "metadata": {},
   "outputs": [
    {
     "name": "stdout",
     "output_type": "stream",
     "text": [
      "+--------------------+----------+----------+------+--------+---------+-----------+--------+------+----------+----+\n",
      "|                  id|      date|date_built| price|bedrooms|bathrooms|sqft_living|sqft_lot|floors|waterfront|view|\n",
      "+--------------------+----------+----------+------+--------+---------+-----------+--------+------+----------+----+\n",
      "|f8a53099-ba1c-47d...|2022-04-08|      2016|936923|       4|        3|       3167|   11733|     2|         1|  76|\n",
      "|7530a2d8-1ae3-451...|2021-06-13|      2013|379628|       2|        2|       2235|   14384|     1|         0|  23|\n",
      "|43de979c-0bf0-4c9...|2019-04-12|      2014|417866|       2|        2|       2127|   10575|     2|         0|   0|\n",
      "|b672c137-b88c-48b...|2019-10-16|      2016|239895|       2|        2|       1631|   11149|     2|         0|   0|\n",
      "|e0726d4d-d595-407...|2022-01-08|      2017|424418|       3|        2|       2249|   13878|     2|         0|   4|\n",
      "+--------------------+----------+----------+------+--------+---------+-----------+--------+------+----------+----+\n",
      "only showing top 5 rows\n",
      "\n"
     ]
    }
   ],
   "source": [
    "df.show(5)"
   ]
  },
  {
   "cell_type": "code",
   "execution_count": 5,
   "metadata": {
    "id": "RoljcJ7WPpnm"
   },
   "outputs": [],
   "source": [
    "# 2. Create a temporary view of the DataFrame.\n",
    "df.createOrReplaceTempView(\"sales\")\n"
   ]
  },
  {
   "cell_type": "code",
   "execution_count": 6,
   "metadata": {
    "colab": {
     "base_uri": "https://localhost:8080/"
    },
    "id": "L6fkwOeOmqvq",
    "outputId": "bdded620-79c4-488d-c7a5-91c6799c419e"
   },
   "outputs": [
    {
     "name": "stdout",
     "output_type": "stream",
     "text": [
      "+----+----------------+\n",
      "|year|annual_avg_price|\n",
      "+----+----------------+\n",
      "|2019|        300263.7|\n",
      "|2020|       298353.78|\n",
      "|2021|       301819.44|\n",
      "|2022|       296363.88|\n",
      "+----+----------------+\n",
      "\n"
     ]
    }
   ],
   "source": [
    "# 3. What is the average price for a four bedroom house sold per year, rounded to two decimal places?\n",
    "\n",
    "spark.sql(\"\"\"SELECT YEAR(date) AS year,\n",
    "          ROUND(avg(price), 2) AS annual_avg_price\n",
    "          FROM sales\n",
    "          WHERE bedrooms = 4\n",
    "          GROUP BY year\n",
    "          ORDER BY year ASC\"\"\").show()"
   ]
  },
  {
   "cell_type": "code",
   "execution_count": 7,
   "metadata": {
    "colab": {
     "base_uri": "https://localhost:8080/"
    },
    "id": "l8p_tUS8h8it",
    "outputId": "65806e5f-6262-41c0-ff65-5107464e5c4d"
   },
   "outputs": [
    {
     "name": "stdout",
     "output_type": "stream",
     "text": [
      "+----------+----------------+\n",
      "|date_built|annual_avg_price|\n",
      "+----------+----------------+\n",
      "|      2010|       292859.62|\n",
      "|      2011|       291117.47|\n",
      "|      2012|       293683.19|\n",
      "|      2013|       295962.27|\n",
      "|      2014|       290852.27|\n",
      "|      2015|        288770.3|\n",
      "|      2016|       290555.07|\n",
      "|      2017|       292676.79|\n",
      "+----------+----------------+\n",
      "\n"
     ]
    }
   ],
   "source": [
    "# 4. What is the average price of a home for each year the home was built,\n",
    "# that have 3 bedrooms and 3 bathrooms, rounded to two decimal places?\n",
    "spark.sql(\"\"\"SELECT date_built,\n",
    "          ROUND(avg(price), 2) AS annual_avg_price\n",
    "          FROM sales\n",
    "          WHERE bedrooms = 3\n",
    "          AND bathrooms = 3\n",
    "          GROUP BY date_built\n",
    "          ORDER BY date_built ASC\"\"\").show()\n"
   ]
  },
  {
   "cell_type": "code",
   "execution_count": 8,
   "metadata": {
    "colab": {
     "base_uri": "https://localhost:8080/"
    },
    "id": "Y-Eytz64liDU",
    "outputId": "17119810-56ad-40c3-de5e-c3db57e43bcc"
   },
   "outputs": [
    {
     "name": "stdout",
     "output_type": "stream",
     "text": [
      "+----------+----------------+\n",
      "|date_built|annual_avg_price|\n",
      "+----------+----------------+\n",
      "|      2010|       285010.22|\n",
      "|      2011|       276553.81|\n",
      "|      2012|       307539.97|\n",
      "|      2013|       303676.79|\n",
      "|      2014|       298264.72|\n",
      "|      2015|       297609.97|\n",
      "|      2016|        293965.1|\n",
      "|      2017|       280317.58|\n",
      "+----------+----------------+\n",
      "\n"
     ]
    }
   ],
   "source": [
    "# 5. What is the average price of a home for each year the home was built,\n",
    "# that have 3 bedrooms, 3 bathrooms, with two floors,\n",
    "# and are greater than or equal to 2,000 square feet, rounded to two decimal places?\n",
    "spark.sql(\"\"\"SELECT date_built,\n",
    "          ROUND(avg(price), 2) AS annual_avg_price\n",
    "          FROM sales\n",
    "          WHERE bedrooms = 3\n",
    "          AND bathrooms = 3 \n",
    "          AND floors = 2\n",
    "          AND sqft_living >= 2000\n",
    "          GROUP BY date_built\n",
    "          ORDER BY date_built ASC\"\"\").show()\n"
   ]
  },
  {
   "cell_type": "code",
   "execution_count": 9,
   "metadata": {
    "colab": {
     "base_uri": "https://localhost:8080/"
    },
    "id": "GUrfgOX1pCRd",
    "outputId": "17c25774-855e-4290-a4bd-a04902bdc13a"
   },
   "outputs": [
    {
     "name": "stdout",
     "output_type": "stream",
     "text": [
      "+----+------------------+\n",
      "|view|avg_price_per_view|\n",
      "+----+------------------+\n",
      "|  51|          15453.49|\n",
      "|  75|          14853.91|\n",
      "|  54|          14790.46|\n",
      "|  53|          14249.34|\n",
      "|  52|          14111.16|\n",
      "|  55|          14020.97|\n",
      "|  77|           13976.7|\n",
      "|  76|          13931.62|\n",
      "|  78|          13854.48|\n",
      "|  59|          13414.46|\n",
      "|  84|          13300.39|\n",
      "|  58|          13099.39|\n",
      "|  81|          13005.84|\n",
      "|  82|          12969.49|\n",
      "|  57|          12883.17|\n",
      "|  56|          12824.58|\n",
      "|  79|           12779.3|\n",
      "|  60|          12582.33|\n",
      "|  91|           12498.6|\n",
      "|  83|          12457.42|\n",
      "+----+------------------+\n",
      "only showing top 20 rows\n",
      "\n",
      "--- 0.25266098976135254 seconds ---\n"
     ]
    }
   ],
   "source": [
    "# 6. What is the average price of a home per \"view\" rating, rounded to two decimal places,\n",
    "# having an average home price greater than or equal to $350,000? Order by descending view rating. \n",
    "# Although this is a small dataset, determine the run time for this query.\n",
    "\n",
    "start_time = time.time()\n",
    "\n",
    "spark.sql(\"\"\"SELECT\n",
    "view, \n",
    "ROUND(AVG(price / view), 2) AS avg_price_per_view\n",
    "FROM sales\n",
    "GROUP BY view\n",
    "HAVING AVG(price) > 350000\n",
    "ORDER BY avg_price_per_view DESC\"\"\" ).show()\n",
    "\n",
    "print(f\"--- {(time.time() - start_time)} seconds ---\")"
   ]
  },
  {
   "cell_type": "code",
   "execution_count": 10,
   "metadata": {
    "colab": {
     "base_uri": "https://localhost:8080/"
    },
    "id": "KAhk3ZD2tFy8",
    "outputId": "0a8f132d-40a8-4bd4-b5f2-2847e98427f5"
   },
   "outputs": [
    {
     "data": {
      "text/plain": [
       "DataFrame[]"
      ]
     },
     "execution_count": 10,
     "metadata": {},
     "output_type": "execute_result"
    }
   ],
   "source": [
    "# 7. Cache the the temporary table home_sales.\n",
    "spark.sql(\"cache table sales\")"
   ]
  },
  {
   "cell_type": "code",
   "execution_count": 11,
   "metadata": {
    "colab": {
     "base_uri": "https://localhost:8080/"
    },
    "id": "4opVhbvxtL-i",
    "outputId": "38ec8487-795f-4550-b50c-fcc6f2b7c769"
   },
   "outputs": [
    {
     "data": {
      "text/plain": [
       "True"
      ]
     },
     "execution_count": 11,
     "metadata": {},
     "output_type": "execute_result"
    }
   ],
   "source": [
    "# 8. Check if the table is cached.\n",
    "spark.catalog.isCached('sales')"
   ]
  },
  {
   "cell_type": "code",
   "execution_count": 12,
   "metadata": {
    "colab": {
     "base_uri": "https://localhost:8080/"
    },
    "id": "5GnL46lwTSEk",
    "outputId": "09a16c73-194d-4371-95d1-ee64fe83b91c"
   },
   "outputs": [
    {
     "name": "stdout",
     "output_type": "stream",
     "text": [
      "+----+------------------+\n",
      "|view|avg_price_per_view|\n",
      "+----+------------------+\n",
      "|  51|          15453.49|\n",
      "|  75|          14853.91|\n",
      "|  54|          14790.46|\n",
      "|  53|          14249.34|\n",
      "|  52|          14111.16|\n",
      "|  55|          14020.97|\n",
      "|  77|           13976.7|\n",
      "|  76|          13931.62|\n",
      "|  78|          13854.48|\n",
      "|  59|          13414.46|\n",
      "|  84|          13300.39|\n",
      "|  58|          13099.39|\n",
      "|  81|          13005.84|\n",
      "|  82|          12969.49|\n",
      "|  57|          12883.17|\n",
      "|  56|          12824.58|\n",
      "|  79|           12779.3|\n",
      "|  60|          12582.33|\n",
      "|  91|           12498.6|\n",
      "|  83|          12457.42|\n",
      "+----+------------------+\n",
      "only showing top 20 rows\n",
      "\n",
      " --- 0.15116500854492188 seconds ---\n"
     ]
    }
   ],
   "source": [
    "# 9. Using the cached data, run the last query above, that calculates \n",
    "# the average price of a home per \"view\" rating, rounded to two decimal places,\n",
    "# having an average home price greater than or equal to $350,000. \n",
    "# Determine the runtime and compare it to the uncached runtime.\n",
    "\n",
    "start_time = time.time()\n",
    "          \n",
    "spark.sql(\"\"\"SELECT\n",
    "view, \n",
    "ROUND(AVG(price / view), 2) AS avg_price_per_view\n",
    "FROM sales\n",
    "GROUP BY view\n",
    "HAVING AVG(price) > 350000\n",
    "ORDER BY avg_price_per_view DESC\"\"\" ).show()\n",
    "\n",
    "\n",
    "print(f\" --- {(time.time() - start_time)} seconds ---\")\n"
   ]
  },
  {
   "cell_type": "code",
   "execution_count": 13,
   "metadata": {
    "id": "Qm12WN9isHBR"
   },
   "outputs": [
    {
     "name": "stderr",
     "output_type": "stream",
     "text": [
      "                                                                                \r"
     ]
    }
   ],
   "source": [
    "# 10. Partition by the \"date_built\" field on the formatted parquet home sales data \n",
    "df.write.partitionBy(\"date_built\").mode(\"overwrite\").parquet(\"p_home_sales\")\n"
   ]
  },
  {
   "cell_type": "code",
   "execution_count": 14,
   "metadata": {
    "id": "AZ7BgY61sRqY"
   },
   "outputs": [],
   "source": [
    "# 11. Read the formatted parquet data.\n",
    "p_df = spark.read.parquet(\"p_home_sales\")"
   ]
  },
  {
   "cell_type": "code",
   "execution_count": 15,
   "metadata": {
    "id": "J6MJkHfvVcvh"
   },
   "outputs": [],
   "source": [
    "# 12. Create a temporary table for the parquet data.\n",
    "p_df.createOrReplaceTempView(\"p_sales\")"
   ]
  },
  {
   "cell_type": "code",
   "execution_count": 16,
   "metadata": {
    "colab": {
     "base_uri": "https://localhost:8080/"
    },
    "id": "G_Vhb52rU1Sn",
    "outputId": "a0b8d0c4-55ed-4c6c-bfd8-4c8c5334838e"
   },
   "outputs": [
    {
     "name": "stdout",
     "output_type": "stream",
     "text": [
      "+----+------------------+\n",
      "|view|avg_price_per_view|\n",
      "+----+------------------+\n",
      "|  51|          15453.49|\n",
      "|  75|          14853.91|\n",
      "|  54|          14790.46|\n",
      "|  53|          14249.34|\n",
      "|  52|          14111.16|\n",
      "|  55|          14020.97|\n",
      "|  77|           13976.7|\n",
      "|  76|          13931.62|\n",
      "|  78|          13854.48|\n",
      "|  59|          13414.46|\n",
      "|  84|          13300.39|\n",
      "|  58|          13099.39|\n",
      "|  81|          13005.84|\n",
      "|  82|          12969.49|\n",
      "|  57|          12883.17|\n",
      "|  56|          12824.58|\n",
      "|  79|           12779.3|\n",
      "|  60|          12582.33|\n",
      "|  91|           12498.6|\n",
      "|  83|          12457.42|\n",
      "+----+------------------+\n",
      "only showing top 20 rows\n",
      "\n",
      " --- 0.29305505752563477 seconds ---\n"
     ]
    }
   ],
   "source": [
    "# 13. Using the parquet DataFrame, run the last query above, that calculates \n",
    "# the average price of a home per \"view\" rating, rounded to two decimal places,\n",
    "# having an average home price greater than or equal to $350,000. \n",
    "# Determine the runtime and compare it to the cached runtime.\n",
    "\n",
    "start_time = time.time()\n",
    "\n",
    "spark.sql(\"\"\"SELECT\n",
    "view, \n",
    "ROUND(AVG(price / view), 2) AS avg_price_per_view\n",
    "FROM p_sales\n",
    "GROUP BY view\n",
    "HAVING AVG(price) > 350000\n",
    "ORDER BY avg_price_per_view DESC\"\"\" ).show()\n",
    "\n",
    "\n",
    "print(f\" --- {(time.time() - start_time)} seconds ---\")"
   ]
  },
  {
   "cell_type": "code",
   "execution_count": 17,
   "metadata": {
    "colab": {
     "base_uri": "https://localhost:8080/"
    },
    "id": "hjjYzQGjtbq8",
    "outputId": "830549fd-bb41-451b-9183-5ebf6e3e470b"
   },
   "outputs": [
    {
     "data": {
      "text/plain": [
       "DataFrame[]"
      ]
     },
     "execution_count": 17,
     "metadata": {},
     "output_type": "execute_result"
    }
   ],
   "source": [
    "# 14. Uncache sales temporary table.\n",
    "spark.sql(\"uncache table sales\")"
   ]
  },
  {
   "cell_type": "code",
   "execution_count": 18,
   "metadata": {
    "colab": {
     "base_uri": "https://localhost:8080/"
    },
    "id": "Sy9NBvO7tlmm",
    "outputId": "be73e0e3-5e85-4794-aad9-025fb6fa84a7"
   },
   "outputs": [
    {
     "data": {
      "text/plain": [
       "False"
      ]
     },
     "execution_count": 18,
     "metadata": {},
     "output_type": "execute_result"
    },
    {
     "name": "stderr",
     "output_type": "stream",
     "text": [
      "24/06/04 21:51:14 WARN GarbageCollectionMetrics: To enable non-built-in garbage collector(s) List(G1 Concurrent GC), users should configure it(them) to spark.eventLog.gcMetrics.youngGenerationGarbageCollectors or spark.eventLog.gcMetrics.oldGenerationGarbageCollectors\n"
     ]
    }
   ],
   "source": [
    "#15. Confirm sales is no longer cached\n",
    "spark.catalog.isCached(\"sales\")\n"
   ]
  }
 ],
 "metadata": {
  "colab": {
   "collapsed_sections": [],
   "name": "Copy of Home_Sales_solution.ipynb",
   "provenance": []
  },
  "kernelspec": {
   "display_name": "Python 3 (ipykernel)",
   "language": "python",
   "name": "python3"
  },
  "language_info": {
   "codemirror_mode": {
    "name": "ipython",
    "version": 3
   },
   "file_extension": ".py",
   "mimetype": "text/x-python",
   "name": "python",
   "nbconvert_exporter": "python",
   "pygments_lexer": "ipython3",
   "version": "3.11.5"
  },
  "nteract": {
   "version": "0.28.0"
  }
 },
 "nbformat": 4,
 "nbformat_minor": 1
}
